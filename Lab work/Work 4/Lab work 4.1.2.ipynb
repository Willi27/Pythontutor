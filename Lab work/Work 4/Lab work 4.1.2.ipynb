{
 "cells": [
  {
   "cell_type": "code",
   "execution_count": 55,
   "metadata": {},
   "outputs": [
    {
     "name": "stdout",
     "output_type": "stream",
     "text": [
      "1. \"У Києві з вікна багатоповерхівки випав 7-річний хлопчик\": 19:27,\n",
      "https://fakty.com.ua/ua/proisshestvija/20200824-u-kyyevi-z-vikna-bagatopoverhivky-vypav-7-richnyj-hlopchyk/\n",
      "\n",
      "2. \"Льотчику Української галицької Армії присвятили мурал на Солом’янці\": 19:13,\n",
      "https://bigkyiv.com.ua/lotchyku-ukrayinskoyi-galytskoyi-armiyi-prysvyatyly-mural-na-solom-yantsi/\n",
      "\n",
      "3. \"На Владимирской горке сыграл оркестр\": 18:56,\n",
      "http://kiev.sq.com.ua/rus/news/novosti/24.08.2020/na_vladimirskoy_gorke_sygral_orkestr/\n",
      "\n",
      "4. \"Рух у Києві знову перекриватимуть через Ван Дама\": 18:35,\n",
      "https://www.unian.ua/economics/transport/zatori-v-kiyevi-netflix-perekrivaye-ruh-u-kiyevi-adresi-novini-kiyeva-11122760.html\n",
      "\n",
      "5. \"На Солом’янці урочисто відкрили мурал, присвячений льотчику Петрові Франку\": 18:34,\n",
      "https://khreschatyk.news/na-solom-yantsi-urochysto-vidkryly-mural-prysvyachenyj-lotchyku-petrovi-franku/\n",
      "\n",
      "6. \"Відкриття спортивної алеї на набережній в Ірпені (фото)\": 18:30,\n",
      "https://itvua.tv/news/vidkryttia-sportkompleksu-na-irpins-kiy-naberezhniy-foto/\n",
      "\n",
      "7. \"У столиці відкрили мурал, присвячений Петру Франку\": 18:11,\n",
      "https://stopcor.org/u-stolyczi-vidkryly-mural-prysvyachenyj-petru-franku/\n",
      "\n",
      "8. \"В Киеве семилетний ребенок выпал из окна\": 18:01,\n",
      "https://socportal.info/ru/news/v-kieve-semiletnii-rebenok-vypal-iz-okna/\n",
      "\n",
      "9. \"День Незалежності України: у поліції розповіли про ситуацію під час урочистостей\": 17:56,\n",
      "https://vgolos.com.ua/news/den-nezalezhnosti-ukrayiny-u-politsiyi-rozpovily-pro-sytuatsiyu-pid-chas-urochystostej_1296676.html\n",
      "\n",
      "10. \"Учасники Маршу захисників планують ночувати під Офісом Генпрокурора\": 17:51,\n",
      "https://www.unn.com.ua/uk/news/1887657-uchasniki-marshu-zakhisnikiv-planuyut-nochuvati-pid-ofisom-genprokurora\n",
      "\n"
     ]
    }
   ],
   "source": [
    "import requests\n",
    "from bs4 import BeautifulSoup\n",
    "\n",
    "def parse():\n",
    "    r = requests.get('https://www.ukr.net/news/kiev.html')\n",
    "    soup = BeautifulSoup(r.text, 'html.parser')\n",
    "    count = 1\n",
    "    for i in soup.find_all(class_ = 'im'): # класс новости\n",
    "        if count > 11:\n",
    "            return None\n",
    "        else:\n",
    "            print(f'''{count}. \"{i.a.text}\": {i.time.text},\n",
    "{i.find('a').get('href')}\n",
    "''')\n",
    "            count += 1\n",
    "    \n",
    "    \n",
    "if __name__ == '__main__':\n",
    "    parse()"
   ]
  },
  {
   "cell_type": "code",
   "execution_count": null,
   "metadata": {},
   "outputs": [],
   "source": []
  }
 ],
 "metadata": {
  "kernelspec": {
   "display_name": "Python 3",
   "language": "python",
   "name": "python3"
  },
  "language_info": {
   "codemirror_mode": {
    "name": "ipython",
    "version": 3
   },
   "file_extension": ".py",
   "mimetype": "text/x-python",
   "name": "python",
   "nbconvert_exporter": "python",
   "pygments_lexer": "ipython3",
   "version": "3.8.3"
  }
 },
 "nbformat": 4,
 "nbformat_minor": 4
}
