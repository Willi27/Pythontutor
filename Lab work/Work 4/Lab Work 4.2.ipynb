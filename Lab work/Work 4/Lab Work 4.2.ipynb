{
 "cells": [
  {
   "cell_type": "markdown",
   "metadata": {},
   "source": [
    "# Task 1"
   ]
  },
  {
   "cell_type": "markdown",
   "metadata": {},
   "source": [
    "### 1. Подключится к таблице _\"tysql.sqlite\"_"
   ]
  },
  {
   "cell_type": "code",
   "execution_count": 1,
   "metadata": {},
   "outputs": [],
   "source": [
    "import sqlite3\n",
    "\n",
    "com = sqlite3.connect('''C:/Users/UserT/Jupiter/tysql.sqlite''')\n",
    "curs = com.cursor()"
   ]
  },
  {
   "cell_type": "markdown",
   "metadata": {},
   "source": [
    "### 2. Вывести информацию про базу данных"
   ]
  },
  {
   "cell_type": "code",
   "execution_count": 2,
   "metadata": {},
   "outputs": [
    {
     "name": "stdout",
     "output_type": "stream",
     "text": [
      "table Customers Customers 2 CREATE TABLE Customers\n",
      "(\n",
      "  cust_id      char(10)  NOT NULL ,\n",
      "  cust_name    char(50)  NOT NULL ,\n",
      "  cust_address char(50)  NULL ,\n",
      "  cust_city    char(50)  NULL ,\n",
      "  cust_state   char(5)   NULL ,\n",
      "  cust_zip     char(10)  NULL ,\n",
      "  cust_country char(50)  NULL ,\n",
      "  cust_contact char(50)  NULL ,\n",
      "  cust_email   char(255) NULL ,\n",
      "  PRIMARY KEY (cust_id)\n",
      ")\n",
      "table OrderItems OrderItems 4 CREATE TABLE OrderItems\n",
      "(\n",
      "  order_num  int          NOT NULL                      ,\n",
      "  order_item int          NOT NULL                      ,\n",
      "  prod_id    char(10)     NOT NULL                      ,\n",
      "  quantity   int          NOT NULL                      ,\n",
      "  item_price decimal(8,2) NOT NULL                      ,\n",
      "  PRIMARY KEY (order_num, order_item)                   ,\n",
      "  FOREIGN KEY (order_num) REFERENCES Orders (order_num) ,\n",
      "  FOREIGN KEY (prod_id) REFERENCES Products (prod_id)\n",
      ")\n",
      "table Orders Orders 7 CREATE TABLE Orders\n",
      "(\n",
      "  order_num  int      NOT NULL ,\n",
      "  order_date datetime NOT NULL ,\n",
      "  cust_id    char(10) NOT NULL ,\n",
      "  PRIMARY KEY (order_num)      ,\n",
      "  FOREIGN KEY (cust_id) REFERENCES Customers (cust_id)\n",
      ")\n",
      "table Products Products 10 CREATE TABLE Products\n",
      "(\n",
      "  prod_id    char(10)      NOT NULL ,\n",
      "  vend_id    char(10)      NOT NULL ,\n",
      "  prod_name  char(255)     NOT NULL ,\n",
      "  prod_price decimal(8,2)  NOT NULL ,\n",
      "  prod_desc  text          NULL     ,\n",
      "  PRIMARY KEY (prod_id)             ,\n",
      "  FOREIGN KEY (vend_id) REFERENCES Vendors (vend_id)\n",
      ")\n",
      "table Vendors Vendors 12 CREATE TABLE Vendors\n",
      "(\n",
      "  vend_id      char(10) NOT NULL ,\n",
      "  vend_name    char(50) NOT NULL ,\n",
      "  vend_address char(50) NULL     ,\n",
      "  vend_city    char(50) NULL     ,\n",
      "  vend_state   char(5)  NULL     ,\n",
      "  vend_zip     char(10) NULL     ,\n",
      "  vend_country char(50) NULL     ,\n",
      "  PRIMARY KEY (vend_id)\n",
      ")\n"
     ]
    }
   ],
   "source": [
    "curs.execute(\"SELECT * FROM sqlite_master where type='table'\")\n",
    "for i in curs.fetchall():\n",
    "    print(*i)"
   ]
  },
  {
   "cell_type": "markdown",
   "metadata": {},
   "source": [
    "### Вывести список всех таблиц"
   ]
  },
  {
   "cell_type": "code",
   "execution_count": 4,
   "metadata": {},
   "outputs": [
    {
     "name": "stdout",
     "output_type": "stream",
     "text": [
      "[('Customers',), ('OrderItems',), ('Orders',), ('Products',), ('Vendors',)]\n"
     ]
    }
   ],
   "source": [
    "curs.execute(\"SELECT name FROM sqlite_master where type='table'\")\n",
    "print(curs.fetchall())"
   ]
  },
  {
   "cell_type": "markdown",
   "metadata": {},
   "source": [
    "### Ознакомится со схемой базы данных"
   ]
  },
  {
   "cell_type": "code",
   "execution_count": 35,
   "metadata": {},
   "outputs": [],
   "source": [
    "#curs.tables"
   ]
  },
  {
   "cell_type": "markdown",
   "metadata": {},
   "source": [
    "# Task 2"
   ]
  },
  {
   "cell_type": "markdown",
   "metadata": {},
   "source": [
    "### Список всех  _\"cust_id\"_   из таблицы _\"Customers\"_"
   ]
  },
  {
   "cell_type": "code",
   "execution_count": 16,
   "metadata": {
    "scrolled": true
   },
   "outputs": [
    {
     "name": "stdout",
     "output_type": "stream",
     "text": [
      "('1000000001',)\n",
      "('1000000002',)\n",
      "('1000000003',)\n",
      "('1000000004',)\n",
      "('1000000005',)\n"
     ]
    }
   ],
   "source": [
    "curs.execute('SELECT cust_id FROM Customers')\n",
    "for i in curs.fetchall():\n",
    "    print(i)"
   ]
  },
  {
   "cell_type": "markdown",
   "metadata": {},
   "source": [
    "### Вся таблица _\"Customers\"_"
   ]
  },
  {
   "cell_type": "code",
   "execution_count": 19,
   "metadata": {},
   "outputs": [
    {
     "name": "stdout",
     "output_type": "stream",
     "text": [
      "('1000000001', 'Village Toys', '200 Maple Lane', 'Detroit', 'MI', '44444', 'USA', 'John Smith', 'sales@villagetoys.com')\n",
      "('1000000002', 'Kids Place', '333 South Lake Drive', 'Columbus', 'OH', '43333', 'USA', 'Michelle Green', None)\n",
      "('1000000003', 'Fun4All', '1 Sunny Place', 'Muncie', 'IN', '42222', 'USA', 'Jim Jones', 'jjones@fun4all.com')\n",
      "('1000000004', 'Fun4All', '829 Riverside Drive', 'Phoenix', 'AZ', '88888', 'USA', 'Denise L. Stephens', 'dstephens@fun4all.com')\n",
      "('1000000005', 'The Toy Store', '4545 53rd Street', 'Chicago', 'IL', '54545', 'USA', 'Kim Howard', None)\n"
     ]
    }
   ],
   "source": [
    "curs.execute('''SELECT *\n",
    "FROM Customers''')\n",
    "for i in curs.fetchall():\n",
    "    print(i)"
   ]
  },
  {
   "cell_type": "markdown",
   "metadata": {},
   "source": [
    "### Список клиентов _(\"cust_id\")_ отсортированный от Z  до A"
   ]
  },
  {
   "cell_type": "code",
   "execution_count": 31,
   "metadata": {},
   "outputs": [
    {
     "name": "stdout",
     "output_type": "stream",
     "text": [
      "('Village Toys',)\n",
      "('The Toy Store',)\n",
      "('Kids Place',)\n",
      "('Fun4All',)\n",
      "('Fun4All',)\n"
     ]
    }
   ],
   "source": [
    "curs.execute('''SELECT cust_name\n",
    "FROM Customers \n",
    "ORDER BY cust_name DESC''')\n",
    "for i in curs.fetchall():\n",
    "    print(i)"
   ]
  },
  {
   "cell_type": "markdown",
   "metadata": {},
   "source": [
    "### Таблица клиентов и заказов _(\"cust_id, order_num\")_.   \n",
    "#####    1. Сортировка по клиенту  \n",
    "#####    2. Сортировка по дате заказа  "
   ]
  },
  {
   "cell_type": "code",
   "execution_count": 46,
   "metadata": {},
   "outputs": [
    {
     "name": "stdout",
     "output_type": "stream",
     "text": [
      "('1000000001', 20005)\n",
      "('1000000001', 20005)\n",
      "('1000000001', 20006)\n",
      "('1000000001', 20006)\n",
      "('1000000001', 20006)\n",
      "('1000000001', 20007)\n",
      "('1000000001', 20007)\n",
      "('1000000001', 20007)\n",
      "('1000000001', 20007)\n",
      "('1000000001', 20007)\n",
      "('1000000001', 20008)\n",
      "('1000000001', 20008)\n",
      "('1000000001', 20008)\n",
      "('1000000001', 20008)\n",
      "('1000000001', 20008)\n",
      "('1000000001', 20009)\n",
      "('1000000001', 20009)\n",
      "('1000000001', 20009)\n",
      "('1000000002', 20005)\n",
      "('1000000002', 20005)\n",
      "('1000000002', 20006)\n",
      "('1000000002', 20006)\n",
      "('1000000002', 20006)\n",
      "('1000000002', 20007)\n",
      "('1000000002', 20007)\n",
      "('1000000002', 20007)\n",
      "('1000000002', 20007)\n",
      "('1000000002', 20007)\n",
      "('1000000002', 20008)\n",
      "('1000000002', 20008)\n",
      "('1000000002', 20008)\n",
      "('1000000002', 20008)\n",
      "('1000000002', 20008)\n",
      "('1000000002', 20009)\n",
      "('1000000002', 20009)\n",
      "('1000000002', 20009)\n",
      "('1000000003', 20005)\n",
      "('1000000003', 20005)\n",
      "('1000000003', 20006)\n",
      "('1000000003', 20006)\n",
      "('1000000003', 20006)\n",
      "('1000000003', 20007)\n",
      "('1000000003', 20007)\n",
      "('1000000003', 20007)\n",
      "('1000000003', 20007)\n",
      "('1000000003', 20007)\n",
      "('1000000003', 20008)\n",
      "('1000000003', 20008)\n",
      "('1000000003', 20008)\n",
      "('1000000003', 20008)\n",
      "('1000000003', 20008)\n",
      "('1000000003', 20009)\n",
      "('1000000003', 20009)\n",
      "('1000000003', 20009)\n",
      "('1000000004', 20005)\n",
      "('1000000004', 20005)\n",
      "('1000000004', 20006)\n",
      "('1000000004', 20006)\n",
      "('1000000004', 20006)\n",
      "('1000000004', 20007)\n",
      "('1000000004', 20007)\n",
      "('1000000004', 20007)\n",
      "('1000000004', 20007)\n",
      "('1000000004', 20007)\n",
      "('1000000004', 20008)\n",
      "('1000000004', 20008)\n",
      "('1000000004', 20008)\n",
      "('1000000004', 20008)\n",
      "('1000000004', 20008)\n",
      "('1000000004', 20009)\n",
      "('1000000004', 20009)\n",
      "('1000000004', 20009)\n",
      "('1000000005', 20005)\n",
      "('1000000005', 20005)\n",
      "('1000000005', 20006)\n",
      "('1000000005', 20006)\n",
      "('1000000005', 20006)\n",
      "('1000000005', 20007)\n",
      "('1000000005', 20007)\n",
      "('1000000005', 20007)\n",
      "('1000000005', 20007)\n",
      "('1000000005', 20007)\n",
      "('1000000005', 20008)\n",
      "('1000000005', 20008)\n",
      "('1000000005', 20008)\n",
      "('1000000005', 20008)\n",
      "('1000000005', 20008)\n",
      "('1000000005', 20009)\n",
      "('1000000005', 20009)\n",
      "('1000000005', 20009)\n"
     ]
    }
   ],
   "source": [
    "curs.execute('''SELECT cust_id, order_num\n",
    "FROM Customers, OrderItems\n",
    "ORDER BY cust_id ASC, order_num ASC\n",
    "''')\n",
    "for i in curs.fetchall():\n",
    "    print(i)"
   ]
  },
  {
   "cell_type": "markdown",
   "metadata": {},
   "source": [
    "### Таблица количества и стоимости товара.  \n",
    "#### Сортировка по убыванию"
   ]
  },
  {
   "cell_type": "code",
   "execution_count": 57,
   "metadata": {},
   "outputs": [
    {
     "name": "stdout",
     "output_type": "stream",
     "text": [
      "(250, 2.49)\n",
      "(250, 2.49)\n",
      "(250, 2.49)\n",
      "(100, 10.99)\n",
      "(100, 5.49)\n",
      "(100, 2.99)\n",
      "(100, 2.99)\n",
      "(100, 2.99)\n",
      "(50, 11.49)\n",
      "(50, 4.49)\n",
      "(20, 5.99)\n",
      "(10, 11.99)\n",
      "(10, 8.99)\n",
      "(10, 3.49)\n",
      "(10, 3.49)\n",
      "(10, 3.49)\n",
      "(5, 11.99)\n",
      "(5, 4.99)\n"
     ]
    }
   ],
   "source": [
    "curs.execute('''SELECT quantity, item_price\n",
    "FROM OrderItems\n",
    "ORDER BY quantity DESC, item_price DESC\n",
    "''')\n",
    "for i in curs.fetchall():\n",
    "    print(i)"
   ]
  },
  {
   "cell_type": "markdown",
   "metadata": {},
   "source": [
    "### Товар из таблицы _\"Products\"_ , цена которого равна 9.49."
   ]
  },
  {
   "cell_type": "code",
   "execution_count": 4,
   "metadata": {},
   "outputs": [
    {
     "name": "stdout",
     "output_type": "stream",
     "text": [
      "('King doll',)\n",
      "('Queen doll',)\n"
     ]
    }
   ],
   "source": [
    "curs.execute('''SELECT prod_name\n",
    "FROM Products\n",
    "WHERE prod_price = 9.49\n",
    "''')\n",
    "for i in curs.fetchall():\n",
    "    print(i)"
   ]
  },
  {
   "cell_type": "markdown",
   "metadata": {},
   "source": [
    "### Название товара и цена в диапазоне от 3 до 6.\n",
    "* **сортировка по цене в порядке возрастания**"
   ]
  },
  {
   "cell_type": "code",
   "execution_count": 40,
   "metadata": {},
   "outputs": [
    {
     "name": "stdout",
     "output_type": "stream",
     "text": [
      "('Fish bean bag toy', 3.49)\n",
      "('Bird bean bag toy', 3.49)\n",
      "('Rabbit bean bag toy', 3.49)\n",
      "('Raggedy Ann', 4.99)\n",
      "('8 inch teddy bear', 5.99)\n"
     ]
    }
   ],
   "source": [
    "curs.execute('''SELECT prod_name, prod_price\n",
    "FROM Products\n",
    "WHERE prod_price > 3 and prod_price < 6 \n",
    "ORDER BY prod_price''')\n",
    "for i in curs.fetchall():\n",
    "    print(i)\n",
    "    \n",
    "# WHERE prod_price BETWEEN 3 and 6"
   ]
  },
  {
   "cell_type": "markdown",
   "metadata": {},
   "source": [
    "# Task 3"
   ]
  },
  {
   "cell_type": "markdown",
   "metadata": {},
   "source": [
    "### Количество проданного товара"
   ]
  },
  {
   "cell_type": "code",
   "execution_count": 15,
   "metadata": {},
   "outputs": [
    {
     "name": "stdout",
     "output_type": "stream",
     "text": [
      "(360,)\n",
      "(360,)\n",
      "(360,)\n",
      "(120,)\n",
      "(10,)\n",
      "(165,)\n",
      "(55,)\n"
     ]
    }
   ],
   "source": [
    "curs.execute('''SELECT SUM(quantity)\n",
    "FROM OrderItems\n",
    "Group BY prod_id''')\n",
    "\n",
    "for i in curs.fetchall():\n",
    "    print(i)"
   ]
  },
  {
   "cell_type": "markdown",
   "metadata": {},
   "source": [
    "### Количество наименований товара, цена которого больше 4"
   ]
  },
  {
   "cell_type": "code",
   "execution_count": 19,
   "metadata": {},
   "outputs": [
    {
     "name": "stdout",
     "output_type": "stream",
     "text": [
      "('8 inch teddy bear',)\n",
      "('12 inch teddy bear',)\n",
      "('18 inch teddy bear',)\n",
      "('Raggedy Ann',)\n",
      "('King doll',)\n",
      "('Queen doll',)\n"
     ]
    }
   ],
   "source": [
    "curs.execute('''SELECT prod_name\n",
    "FROM Products\n",
    "WHERE prod_price > 4\n",
    "''')\n",
    "\n",
    "for i in curs.fetchall():\n",
    "    print(i)"
   ]
  },
  {
   "cell_type": "markdown",
   "metadata": {},
   "source": [
    "### Алгоритм выведения 3 самых дорогих товаров"
   ]
  },
  {
   "cell_type": "code",
   "execution_count": 22,
   "metadata": {},
   "outputs": [
    {
     "name": "stdout",
     "output_type": "stream",
     "text": [
      "('18 inch teddy bear', 11.99)\n",
      "('King doll', 9.49)\n",
      "('Queen doll', 9.49)\n"
     ]
    }
   ],
   "source": [
    "curs.execute('''SELECT prod_name, prod_price\n",
    "FROM Products\n",
    "ORDER BY prod_price DESC\n",
    "LIMIT 3\n",
    "''')\n",
    "\n",
    "for i in curs.fetchall():\n",
    "    print(i)"
   ]
  },
  {
   "cell_type": "markdown",
   "metadata": {},
   "source": [
    "### Количество заказов каждого клиента"
   ]
  },
  {
   "cell_type": "code",
   "execution_count": 30,
   "metadata": {},
   "outputs": [
    {
     "name": "stdout",
     "output_type": "stream",
     "text": [
      "('1000000001', 2)\n",
      "('1000000003', 1)\n",
      "('1000000004', 1)\n",
      "('1000000005', 1)\n"
     ]
    }
   ],
   "source": [
    "curs.execute('''SELECT cust_id, COUNT(order_num)\n",
    "FROM Orders\n",
    "GROUP BY cust_id\n",
    "''')\n",
    "\n",
    "for i in curs.fetchall():\n",
    "    print(i)"
   ]
  },
  {
   "cell_type": "code",
   "execution_count": 33,
   "metadata": {},
   "outputs": [
    {
     "name": "stdout",
     "output_type": "stream",
     "text": [
      "('1000000001', 2)\n",
      "('1000000003', 1)\n",
      "('1000000004', 1)\n",
      "('1000000005', 1)\n"
     ]
    }
   ],
   "source": [
    "curs.execute('''SELECT cust_id, (SELECT COUNT(order_num) FROM Orders t1 WHERE t1.cust_id = t2.cust_id)\n",
    "FROM Orders t2\n",
    "GROUP BY cust_id\n",
    "''')\n",
    "\n",
    "for i in curs.fetchall():\n",
    "    print(i)"
   ]
  },
  {
   "cell_type": "markdown",
   "metadata": {},
   "source": [
    "### Список клиентов и их заказы"
   ]
  },
  {
   "cell_type": "code",
   "execution_count": 34,
   "metadata": {},
   "outputs": [
    {
     "name": "stdout",
     "output_type": "stream",
     "text": [
      "('Village Toys', 20005)\n",
      "('Fun4All', 20006)\n",
      "('Fun4All', 20007)\n",
      "('The Toy Store', 20008)\n",
      "('Village Toys', 20009)\n"
     ]
    }
   ],
   "source": [
    "curs.execute('''SELECT Customers.cust_name, Orders.order_num\n",
    "FROM Orders\n",
    "JOIN Customers on Orders.cust_id = Customers.cust_id\n",
    "''')\n",
    "\n",
    "for i in curs.fetchall():\n",
    "    print(i)"
   ]
  },
  {
   "cell_type": "markdown",
   "metadata": {},
   "source": [
    "### Два запроса:  \n",
    "* список товаров(цена меньше 5)  \n",
    "* список товаров(цена больше или равна 5)"
   ]
  },
  {
   "cell_type": "code",
   "execution_count": 12,
   "metadata": {},
   "outputs": [
    {
     "name": "stdout",
     "output_type": "stream",
     "text": [
      "('12 inch teddy bear', 8.99)\n",
      "('18 inch teddy bear', 11.99)\n",
      "('8 inch teddy bear', 5.99)\n",
      "('Bird bean bag toy', 3.49)\n",
      "('Fish bean bag toy', 3.49)\n",
      "('King doll', 9.49)\n",
      "('Queen doll', 9.49)\n",
      "('Rabbit bean bag toy', 3.49)\n",
      "('Raggedy Ann', 4.99)\n"
     ]
    }
   ],
   "source": [
    "curs.execute('''SELECT prod_name, prod_price\n",
    "FROM Products\n",
    "WHERE prod_price < 5\n",
    "UNION\n",
    "SELECT prod_name, prod_price\n",
    "FROM Products\n",
    "WHERE prod_price >= 5\n",
    "''')\n",
    "\n",
    "for i in curs.fetchall():\n",
    "    print(i)"
   ]
  },
  {
   "cell_type": "markdown",
   "metadata": {},
   "source": [
    "### Вывести товар с наибольшей и наименьшей ценой"
   ]
  },
  {
   "cell_type": "code",
   "execution_count": 22,
   "metadata": {},
   "outputs": [
    {
     "name": "stdout",
     "output_type": "stream",
     "text": [
      "('18 inch teddy bear', 11.99)\n",
      "('Fish bean bag toy', 3.49)\n"
     ]
    }
   ],
   "source": [
    "curs.execute('''SELECT prod_name, MAX(prod_price)\n",
    "FROM Products\n",
    "UNION\n",
    "SELECT prod_name, MIN(prod_price)\n",
    "FROM Products\n",
    "''')\n",
    "\n",
    "for i in curs.fetchall():\n",
    "    print(i)"
   ]
  },
  {
   "cell_type": "code",
   "execution_count": 25,
   "metadata": {},
   "outputs": [
    {
     "name": "stdout",
     "output_type": "stream",
     "text": [
      "('18 inch teddy bear', 11.99)\n",
      "('Bird bean bag toy', 3.49)\n",
      "('Fish bean bag toy', 3.49)\n",
      "('King doll', 9.49)\n",
      "('Queen doll', 9.49)\n",
      "('Rabbit bean bag toy', 3.49)\n"
     ]
    }
   ],
   "source": [
    "curs.execute('''SELECT *\n",
    "FROM (SELECT prod_name, prod_price FROM Products ORDER BY prod_price DESC LIMIT 3)\n",
    "UNION\n",
    "SELECT *\n",
    "FROM (SELECT prod_name, prod_price FROM Products ORDER BY prod_price  LIMIT 3)\n",
    "''')\n",
    "\n",
    "\n",
    "for i in curs.fetchall():\n",
    "    print(i)"
   ]
  },
  {
   "cell_type": "code",
   "execution_count": 21,
   "metadata": {},
   "outputs": [
    {
     "name": "stdout",
     "output_type": "stream",
     "text": [
      "('Fish bean bag toy', 3.49)\n",
      "('Bird bean bag toy', 3.49)\n",
      "('Rabbit bean bag toy', 3.49)\n"
     ]
    }
   ],
   "source": [
    "curs.execute('''SELECT prod_name, prod_price\n",
    "FROM Products\n",
    "WHERE prod_price = (SELECT MIN(prod_price) FROM Products) \n",
    "''')\n",
    "\n",
    "for i in curs.fetchall():\n",
    "    print(i)"
   ]
  },
  {
   "cell_type": "code",
   "execution_count": 20,
   "metadata": {},
   "outputs": [
    {
     "name": "stdout",
     "output_type": "stream",
     "text": [
      "(20005, 200)\n",
      "(20007, 400)\n",
      "(20009, 750)\n"
     ]
    }
   ],
   "source": [
    "curs.execute('''SELECT order_num, SUM(quantity)\n",
    "FROM OrderItems\n",
    "GROUP BY order_num\n",
    "HAVING SUM(quantity) > 50 \n",
    "''')\n",
    "\n",
    "for i in curs.fetchall():\n",
    "    print(i)"
   ]
  }
 ],
 "metadata": {
  "kernelspec": {
   "display_name": "Python 3",
   "language": "python",
   "name": "python3"
  },
  "language_info": {
   "codemirror_mode": {
    "name": "ipython",
    "version": 3
   },
   "file_extension": ".py",
   "mimetype": "text/x-python",
   "name": "python",
   "nbconvert_exporter": "python",
   "pygments_lexer": "ipython3",
   "version": "3.8.3"
  }
 },
 "nbformat": 4,
 "nbformat_minor": 4
}
