{
 "cells": [
  {
   "cell_type": "markdown",
   "metadata": {},
   "source": [
    "# 1. Markdown cells\n",
    "* Hi! its Main Academy?  \n",
    "* All HTML tabs are supported!  \n",
    "* Моя страничка на лінкендін [Лінкендін](https://www.linkedin.com/in/savinov-anton)"
   ]
  },
  {
   "cell_type": "markdown",
   "metadata": {},
   "source": [
    "# This is Heading1\n",
    "\n",
    "## This is Heading2\n",
    "\n",
    "some gray colored text:  \n",
    ">This is where we can bring qoutes and present them nicely\n",
    "\n",
    "And this is the paragraph about something very important. Even math:  $$ y_{sub} = \\sqrt{(x_{sub})} $$  \n",
    "Or python code example:\n",
    "\n",
    "     import math  \n",
    "     def foo():  \n",
    "        return \"foo\""
   ]
  },
  {
   "cell_type": "markdown",
   "metadata": {},
   "source": [
    "Here is the sample mean:  $$ \\ddot{y} = {1 \\over n} \\sum_{i=1}^n y_i$$  \n",
    "Here is the sample variance:  $$ \\sigma^2 = { \\frac{ \\displaystyle\\sum_{i=1}^{n} (y_i - \\ddot{y})^2}{n - 1} }$$  \n",
    "Here is the sample standard deviation:  $$ \\sigma = \\sqrt{ \\frac{ \\displaystyle\\sum_{i=1}^{n} (y_i - \\ddot{y})^2}{n - 1}}$$"
   ]
  }
 ],
 "metadata": {
  "kernelspec": {
   "display_name": "Python 3",
   "language": "python",
   "name": "python3"
  },
  "language_info": {
   "codemirror_mode": {
    "name": "ipython",
    "version": 3
   },
   "file_extension": ".py",
   "mimetype": "text/x-python",
   "name": "python",
   "nbconvert_exporter": "python",
   "pygments_lexer": "ipython3",
   "version": "3.7.6"
  }
 },
 "nbformat": 4,
 "nbformat_minor": 4
}
